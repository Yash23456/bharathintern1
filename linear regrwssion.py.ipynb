{
 "cells": [
  {
   "cell_type": "code",
   "execution_count": 3,
   "id": "d01b0761",
   "metadata": {},
   "outputs": [
    {
     "name": "stdout",
     "output_type": "stream",
     "text": [
      "Root Mean Squared Error: 14677.419354838727\n",
      "Predictions for new data:\n"
     ]
    },
    {
     "data": {
      "text/plain": [
       "(None, array([370967.74193548, 504516.12903226]))"
      ]
     },
     "execution_count": 3,
     "metadata": {},
     "output_type": "execute_result"
    }
   ],
   "source": [
    "import numpy as np\n",
    "from sklearn.linear_model import LinearRegression\n",
    "from sklearn.model_selection import train_test_split\n",
    "from sklearn.metrics import mean_squared_error\n",
    "\n",
    "# Sample input features (house size and number of rooms)\n",
    "X = np.array([[1000, 2], [1500, 3], [1200, 2], [1700, 4], [2000, 3]])\n",
    "\n",
    "# Corresponding target values (house prices)\n",
    "y = np.array([300000, 450000, 350000, 500000, 550000])\n",
    "\n",
    "# Split the data into training and testing sets\n",
    "X_train, X_test, y_train, y_test = train_test_split(X, y, test_size=0.2, random_state=42)\n",
    "\n",
    "# Create a linear regression model\n",
    "model = LinearRegression()\n",
    "\n",
    "# Train the model\n",
    "model.fit(X_train, y_train)\n",
    "\n",
    "# Make predictions on the test set\n",
    "y_pred = model.predict(X_test)\n",
    "\n",
    "# Calculate the root mean squared error (RMSE)\n",
    "rmse = np.sqrt(mean_squared_error(y_test, y_pred))\n",
    "print(\"Root Mean Squared Error:\", rmse)\n",
    "\n",
    "# Predict house prices for new data\n",
    "new_data = np.array([[1300, 2], [1800, 3]])\n",
    "new_predictions = model.predict(new_data)\n",
    "print(\"Predictions for new data:\"), new_predictions"
   ]
  },
  {
   "cell_type": "code",
   "execution_count": null,
   "id": "2050a128",
   "metadata": {},
   "outputs": [],
   "source": []
  },
  {
   "cell_type": "code",
   "execution_count": null,
   "id": "0f0d4de0",
   "metadata": {},
   "outputs": [],
   "source": []
  }
 ],
 "metadata": {
  "kernelspec": {
   "display_name": "Python 3 (ipykernel)",
   "language": "python",
   "name": "python3"
  },
  "language_info": {
   "codemirror_mode": {
    "name": "ipython",
    "version": 3
   },
   "file_extension": ".py",
   "mimetype": "text/x-python",
   "name": "python",
   "nbconvert_exporter": "python",
   "pygments_lexer": "ipython3",
   "version": "3.10.9"
  }
 },
 "nbformat": 4,
 "nbformat_minor": 5
}
